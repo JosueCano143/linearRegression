{
  "nbformat": 4,
  "nbformat_minor": 0,
  "metadata": {
    "colab": {
      "provenance": []
    },
    "kernelspec": {
      "name": "python3",
      "display_name": "Python 3"
    },
    "language_info": {
      "name": "python"
    }
  },
  "cells": [
    {
      "cell_type": "markdown",
      "source": [
        "LINEAR REGRESSION WITHOUT FRAMEWORKS: y = mx + b"
      ],
      "metadata": {
        "id": "6SVq4JEiQQDf"
      }
    },
    {
      "cell_type": "code",
      "source": [
        "# Import libraries and create data frame\n",
        "import pandas as pd\n",
        "import numpy as np\n",
        "import matplotlib.pyplot as plt\n",
        "from sklearn.model_selection import train_test_split\n",
        "from sklearn import preprocessing\n",
        "from google.colab import drive\n",
        "\n",
        "drive.mount(\"/content/gdrive\")  \n",
        "!pwd \n",
        "%cd \"/content/gdrive/MyDrive/IA4DS/AprendizajeDeMaquina/linearRegression\"\n",
        "!ls \n",
        "\n",
        "df = pd.read_csv('data.csv') \n",
        "df.head()"
      ],
      "metadata": {
        "id": "LNl6Ub5rQbAE",
        "outputId": "632ecb04-7235-460a-9a86-e7ce858fa843",
        "colab": {
          "base_uri": "https://localhost:8080/",
          "height": 276
        }
      },
      "execution_count": 80,
      "outputs": [
        {
          "output_type": "stream",
          "name": "stdout",
          "text": [
            "Drive already mounted at /content/gdrive; to attempt to forcibly remount, call drive.mount(\"/content/gdrive\", force_remount=True).\n",
            "/content/gdrive/My Drive/IA4DS/AprendizajeDeMaquina/linearRegression\n",
            "/content/gdrive/MyDrive/IA4DS/AprendizajeDeMaquina/linearRegression\n",
            "data.csv  linearRegression.ipynb\n"
          ]
        },
        {
          "output_type": "execute_result",
          "data": {
            "text/plain": [
              "      height      weight\n",
              "0  73.847017  241.893563\n",
              "1  68.781904  162.310473\n",
              "2  74.110105  212.740856\n",
              "3  71.730978  220.042470\n",
              "4  69.881796  206.349801"
            ],
            "text/html": [
              "\n",
              "  <div id=\"df-65f2ac3a-654c-4983-a93f-d8384d1e5048\">\n",
              "    <div class=\"colab-df-container\">\n",
              "      <div>\n",
              "<style scoped>\n",
              "    .dataframe tbody tr th:only-of-type {\n",
              "        vertical-align: middle;\n",
              "    }\n",
              "\n",
              "    .dataframe tbody tr th {\n",
              "        vertical-align: top;\n",
              "    }\n",
              "\n",
              "    .dataframe thead th {\n",
              "        text-align: right;\n",
              "    }\n",
              "</style>\n",
              "<table border=\"1\" class=\"dataframe\">\n",
              "  <thead>\n",
              "    <tr style=\"text-align: right;\">\n",
              "      <th></th>\n",
              "      <th>height</th>\n",
              "      <th>weight</th>\n",
              "    </tr>\n",
              "  </thead>\n",
              "  <tbody>\n",
              "    <tr>\n",
              "      <th>0</th>\n",
              "      <td>73.847017</td>\n",
              "      <td>241.893563</td>\n",
              "    </tr>\n",
              "    <tr>\n",
              "      <th>1</th>\n",
              "      <td>68.781904</td>\n",
              "      <td>162.310473</td>\n",
              "    </tr>\n",
              "    <tr>\n",
              "      <th>2</th>\n",
              "      <td>74.110105</td>\n",
              "      <td>212.740856</td>\n",
              "    </tr>\n",
              "    <tr>\n",
              "      <th>3</th>\n",
              "      <td>71.730978</td>\n",
              "      <td>220.042470</td>\n",
              "    </tr>\n",
              "    <tr>\n",
              "      <th>4</th>\n",
              "      <td>69.881796</td>\n",
              "      <td>206.349801</td>\n",
              "    </tr>\n",
              "  </tbody>\n",
              "</table>\n",
              "</div>\n",
              "      <button class=\"colab-df-convert\" onclick=\"convertToInteractive('df-65f2ac3a-654c-4983-a93f-d8384d1e5048')\"\n",
              "              title=\"Convert this dataframe to an interactive table.\"\n",
              "              style=\"display:none;\">\n",
              "        \n",
              "  <svg xmlns=\"http://www.w3.org/2000/svg\" height=\"24px\"viewBox=\"0 0 24 24\"\n",
              "       width=\"24px\">\n",
              "    <path d=\"M0 0h24v24H0V0z\" fill=\"none\"/>\n",
              "    <path d=\"M18.56 5.44l.94 2.06.94-2.06 2.06-.94-2.06-.94-.94-2.06-.94 2.06-2.06.94zm-11 1L8.5 8.5l.94-2.06 2.06-.94-2.06-.94L8.5 2.5l-.94 2.06-2.06.94zm10 10l.94 2.06.94-2.06 2.06-.94-2.06-.94-.94-2.06-.94 2.06-2.06.94z\"/><path d=\"M17.41 7.96l-1.37-1.37c-.4-.4-.92-.59-1.43-.59-.52 0-1.04.2-1.43.59L10.3 9.45l-7.72 7.72c-.78.78-.78 2.05 0 2.83L4 21.41c.39.39.9.59 1.41.59.51 0 1.02-.2 1.41-.59l7.78-7.78 2.81-2.81c.8-.78.8-2.07 0-2.86zM5.41 20L4 18.59l7.72-7.72 1.47 1.35L5.41 20z\"/>\n",
              "  </svg>\n",
              "      </button>\n",
              "      \n",
              "  <style>\n",
              "    .colab-df-container {\n",
              "      display:flex;\n",
              "      flex-wrap:wrap;\n",
              "      gap: 12px;\n",
              "    }\n",
              "\n",
              "    .colab-df-convert {\n",
              "      background-color: #E8F0FE;\n",
              "      border: none;\n",
              "      border-radius: 50%;\n",
              "      cursor: pointer;\n",
              "      display: none;\n",
              "      fill: #1967D2;\n",
              "      height: 32px;\n",
              "      padding: 0 0 0 0;\n",
              "      width: 32px;\n",
              "    }\n",
              "\n",
              "    .colab-df-convert:hover {\n",
              "      background-color: #E2EBFA;\n",
              "      box-shadow: 0px 1px 2px rgba(60, 64, 67, 0.3), 0px 1px 3px 1px rgba(60, 64, 67, 0.15);\n",
              "      fill: #174EA6;\n",
              "    }\n",
              "\n",
              "    [theme=dark] .colab-df-convert {\n",
              "      background-color: #3B4455;\n",
              "      fill: #D2E3FC;\n",
              "    }\n",
              "\n",
              "    [theme=dark] .colab-df-convert:hover {\n",
              "      background-color: #434B5C;\n",
              "      box-shadow: 0px 1px 3px 1px rgba(0, 0, 0, 0.15);\n",
              "      filter: drop-shadow(0px 1px 2px rgba(0, 0, 0, 0.3));\n",
              "      fill: #FFFFFF;\n",
              "    }\n",
              "  </style>\n",
              "\n",
              "      <script>\n",
              "        const buttonEl =\n",
              "          document.querySelector('#df-65f2ac3a-654c-4983-a93f-d8384d1e5048 button.colab-df-convert');\n",
              "        buttonEl.style.display =\n",
              "          google.colab.kernel.accessAllowed ? 'block' : 'none';\n",
              "\n",
              "        async function convertToInteractive(key) {\n",
              "          const element = document.querySelector('#df-65f2ac3a-654c-4983-a93f-d8384d1e5048');\n",
              "          const dataTable =\n",
              "            await google.colab.kernel.invokeFunction('convertToInteractive',\n",
              "                                                     [key], {});\n",
              "          if (!dataTable) return;\n",
              "\n",
              "          const docLinkHtml = 'Like what you see? Visit the ' +\n",
              "            '<a target=\"_blank\" href=https://colab.research.google.com/notebooks/data_table.ipynb>data table notebook</a>'\n",
              "            + ' to learn more about interactive tables.';\n",
              "          element.innerHTML = '';\n",
              "          dataTable['output_type'] = 'display_data';\n",
              "          await google.colab.output.renderOutput(dataTable, element);\n",
              "          const docLink = document.createElement('div');\n",
              "          docLink.innerHTML = docLinkHtml;\n",
              "          element.appendChild(docLink);\n",
              "        }\n",
              "      </script>\n",
              "    </div>\n",
              "  </div>\n",
              "  "
            ]
          },
          "metadata": {},
          "execution_count": 80
        }
      ]
    },
    {
      "cell_type": "code",
      "source": [
        "# Plot the data\n",
        "plt.scatter(df.height, df.weight)\n",
        "plt.show()"
      ],
      "metadata": {
        "colab": {
          "base_uri": "https://localhost:8080/",
          "height": 265
        },
        "id": "z67zzxNPVpnn",
        "outputId": "c2c3a426-8586-402b-9170-cf03ff25e3e8"
      },
      "execution_count": 66,
      "outputs": [
        {
          "output_type": "display_data",
          "data": {
            "text/plain": [
              "<Figure size 432x288 with 1 Axes>"
            ],
            "image/png": "[encoded data removed]"
          },
          "metadata": {
            "needs_background": "light"
          }
        }
      ]
    },
    {
      "cell_type": "markdown",
      "source": [
        "# Solution 1: Calculating m and b values using math"
      ],
      "metadata": {
        "id": "t0nmU05GNNKL"
      }
    },
    {
      "cell_type": "code",
      "source": [
        "# Create x and y variables\n",
        "x = df[['weight']]\n",
        "y = df.height"
      ],
      "metadata": {
        "id": "dqJlvzN1Sn93"
      },
      "execution_count": 67,
      "outputs": []
    },
    {
      "cell_type": "markdown",
      "source": [
        "Calculating the slope m of the regression line\n",
        "\n",
        "1. Step calculating SSxx"
      ],
      "metadata": {
        "id": "pYfxnyY4TJgp"
      }
    },
    {
      "cell_type": "code",
      "source": [
        "# Calculate SSxx \n",
        "xmean = x.mean()\n",
        "df['diffx'] = xmean - x\n",
        "df['diffx_squared'] = df.diffx**2\n",
        "SSxx = df.diffx_squared.sum()"
      ],
      "metadata": {
        "id": "U2zwADP_hVvQ"
      },
      "execution_count": 68,
      "outputs": []
    },
    {
      "cell_type": "markdown",
      "source": [
        "2. Step calculating SSxy"
      ],
      "metadata": {
        "id": "pqEWvnSBTms3"
      }
    },
    {
      "cell_type": "code",
      "source": [
        "# Calculate SSxy\n",
        "ymean = y.mean()\n",
        "df['diffy'] = ymean - y\n",
        "SSxy = (df.diffx * df.diffy).sum()"
      ],
      "metadata": {
        "id": "m8tukUvuiNH4"
      },
      "execution_count": 69,
      "outputs": []
    },
    {
      "cell_type": "markdown",
      "source": [
        "Slope"
      ],
      "metadata": {
        "id": "LnjaMJJJUnTq"
      }
    },
    {
      "cell_type": "code",
      "source": [
        "# Slope: calculate m value\n",
        "m = SSxy / SSxx\n"
      ],
      "metadata": {
        "id": "XsGRyokRi4NZ"
      },
      "execution_count": 70,
      "outputs": []
    },
    {
      "cell_type": "markdown",
      "source": [
        "Calculating the intercept b of the regression line "
      ],
      "metadata": {
        "id": "CBjcyWT5i6Yo"
      }
    },
    {
      "cell_type": "code",
      "source": [
        "# Calculate the intercept 'b' of the regression line\n",
        "b = ymean - m*xmean\n"
      ],
      "metadata": {
        "id": "i6orA8p4iMwu"
      },
      "execution_count": 71,
      "outputs": []
    },
    {
      "cell_type": "code",
      "source": [
        "# Plot data and linear regression\n",
        "import matplotlib.pyplot as plt\n",
        "plt.scatter(x,y)\n",
        "plt.plot(x, m*x+b, 'r' )"
      ],
      "metadata": {
        "colab": {
          "base_uri": "https://localhost:8080/",
          "height": 284
        },
        "id": "BL2fh1S8SyFx",
        "outputId": "ca59ae6d-3714-4bd7-fdfc-d50dc244ae20"
      },
      "execution_count": 72,
      "outputs": [
        {
          "output_type": "execute_result",
          "data": {
            "text/plain": [
              "[<matplotlib.lines.Line2D at 0x7f9e52144350>]"
            ]
          },
          "metadata": {},
          "execution_count": 72
        },
        {
          "output_type": "display_data",
          "data": {
            "text/plain": [
              "<Figure size 432x288 with 1 Axes>"
            ],
            "image/png": "[encoded data removed]"
          },
          "metadata": {
            "needs_background": "light"
          }
        }
      ]
    },
    {
      "cell_type": "markdown",
      "source": [
        "Predict values with the model"
      ],
      "metadata": {
        "id": "RE8ALGHMhQWO"
      }
    },
    {
      "cell_type": "code",
      "source": [
        "# Predict values\n",
        "def predict(value):\n",
        "  predict = m * value + b\n",
        "  return predict "
      ],
      "metadata": {
        "id": "uwUpX739jP7v"
      },
      "execution_count": 73,
      "outputs": []
    },
    {
      "cell_type": "code",
      "source": [
        "# Test for prediction of 67.99831\n",
        "predict(67.99831)"
      ],
      "metadata": {
        "colab": {
          "base_uri": "https://localhost:8080/"
        },
        "id": "m_hJf-V3jbGO",
        "outputId": "ec53bb5b-8426-4d40-88ea-3cc1e81044c3"
      },
      "execution_count": 74,
      "outputs": [
        {
          "output_type": "execute_result",
          "data": {
            "text/plain": [
              "weight    56.012985\n",
              "dtype: float64"
            ]
          },
          "metadata": {},
          "execution_count": 74
        }
      ]
    },
    {
      "cell_type": "markdown",
      "source": [
        "Sklearn comparison\n"
      ],
      "metadata": {
        "id": "jPqcJQtTj6jI"
      }
    },
    {
      "cell_type": "code",
      "source": [
        "# Compare result of the model with the result of sklearn\n",
        "from sklearn import linear_model\n",
        "model = linear_model.LinearRegression()\n",
        "model.fit(x,y)"
      ],
      "metadata": {
        "id": "4hegwpMoj_Jl",
        "colab": {
          "base_uri": "https://localhost:8080/"
        },
        "outputId": "16b4e4e2-22cd-4024-9d5c-3a482e1e6358"
      },
      "execution_count": 75,
      "outputs": [
        {
          "output_type": "execute_result",
          "data": {
            "text/plain": [
              "LinearRegression()"
            ]
          },
          "metadata": {},
          "execution_count": 75
        }
      ]
    },
    {
      "cell_type": "code",
      "source": [
        "# Get sklearn linear regression value\n",
        "model.coef_\n",
        "model.intercept_\n",
        "model.predict([[140]])"
      ],
      "metadata": {
        "id": "v7ELF71Ikb0m",
        "colab": {
          "base_uri": "https://localhost:8080/"
        },
        "outputId": "3d122f3d-9e3e-412a-d28c-0e89718407ef"
      },
      "execution_count": 76,
      "outputs": [
        {
          "output_type": "stream",
          "name": "stderr",
          "text": [
            "/usr/local/lib/python3.7/dist-packages/sklearn/base.py:451: UserWarning: X does not have valid feature names, but LinearRegression was fitted with feature names\n",
            "  \"X does not have valid feature names, but\"\n"
          ]
        },
        {
          "output_type": "execute_result",
          "data": {
            "text/plain": [
              "array([63.99169389])"
            ]
          },
          "metadata": {},
          "execution_count": 76
        }
      ]
    },
    {
      "cell_type": "markdown",
      "source": [
        "## Solution 2: implementing a Linear Regression Class\n",
        "\n"
      ],
      "metadata": {
        "id": "nYNMJgLTM_tj"
      }
    },
    {
      "cell_type": "code",
      "source": [
        "class LinearRegression():      \n",
        "    def __init__(self, learning_rate, iterations):\n",
        "        self.learning_rate = learning_rate\n",
        "        self.iterations = iterations\n",
        "          \n",
        "    # Training function\n",
        "    def fit(self, X, Y):\n",
        "        # m = training_examples, n = features\n",
        "        self.m, self.n = X.shape\n",
        "        # Declare Weight \n",
        "        self.W = np.zeros(self.n)\n",
        "        self.b = 0\n",
        "        self.X = X\n",
        "        self.Y = Y\n",
        "        # Gradient descent learning\n",
        "        for i in range(self.iterations):\n",
        "            self.update_weights()\n",
        "        return self\n",
        "      \n",
        "    # Function for updating weights\n",
        "    def update_weights(self):\n",
        "        Y_pred = self.predict(self.X)\n",
        "        # Get gradients  \n",
        "        dW = - (2 * (self.X.T).dot(self.Y - Y_pred)) / self.m\n",
        "        db = - 2 * np.sum(self.Y - Y_pred) / self.m \n",
        "        # Update weights\n",
        "        self.W = self.W - self.learning_rate * dW\n",
        "        self.b = self.b - self.learning_rate * db\n",
        "        return self\n",
        "      \n",
        "    # Predict function\n",
        "    def predict(self, X):\n",
        "        return X.dot(self.W) + self.b"
      ],
      "metadata": {
        "id": "an_OO-ehM-m8"
      },
      "execution_count": 77,
      "outputs": []
    },
    {
      "cell_type": "code",
      "source": [
        "# Assign x and y values; scaling data \n",
        "X = df.iloc[:,:-1].values\n",
        "X = preprocessing.scale(X)\n",
        "Y = df.iloc[:,1].values\n",
        "Y = preprocessing.scale(Y)\n",
        "  \n",
        "# Create train and test set\n",
        "x_train, x_test, y_train, y_test = train_test_split(X, Y)\n",
        "  \n",
        "# Training using the class model\n",
        "lrModel = LinearRegression(learning_rate = 0.01, iterations = 100)\n",
        "lrModel.fit(x_train, y_train)\n",
        "  \n",
        "# Make predictions\n",
        "predictions = lrModel.predict(x_test)\n",
        "print(\"Predicted values \", np.round(predictions[:3], 3)) \n",
        "print(\"Real values \", np.round(y_test[:3],3))\n",
        "  \n",
        "# Visualization of test values and predictions \n",
        "plt.scatter(x_test, y_test, color = 'green')\n",
        "plt.plot(x_test, predictions, color = 'red')\n",
        "plt.title('Height and Weight')\n",
        "plt.xlabel('Weight')\n",
        "plt.ylabel('Height')\n",
        "plt.show()"
      ],
      "metadata": {
        "colab": {
          "base_uri": "https://localhost:8080/",
          "height": 330
        },
        "id": "J4vPLaDqI8GV",
        "outputId": "615afd7e-76b3-4f01-a14c-02eead5519bb"
      },
      "execution_count": 81,
      "outputs": [
        {
          "output_type": "stream",
          "name": "stdout",
          "text": [
            "Predicted values  [-0.713  0.415  1.35 ]\n",
            "Real values  [-0.23   0.918  1.879]\n"
          ]
        },
        {
          "output_type": "display_data",
          "data": {
            "text/plain": [
              "<Figure size 432x288 with 1 Axes>"
            ],
            "image/png": "[encoded data removed]"
          },
          "metadata": {
            "needs_background": "light"
          }
        }
      ]
    }
  ]
}